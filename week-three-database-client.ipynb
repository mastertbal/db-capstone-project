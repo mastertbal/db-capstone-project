{
 "cells": [
  {
   "cell_type": "code",
   "execution_count": 1,
   "id": "7a8d628a",
   "metadata": {},
   "outputs": [],
   "source": [
    "import mysql.connector as connector\n"
   ]
  },
  {
   "cell_type": "code",
   "execution_count": 4,
   "id": "79eafb95",
   "metadata": {},
   "outputs": [],
   "source": [
    "connection = connector.connect(user = \"littlelemon\", password = \"mysqlpassword\")"
   ]
  },
  {
   "cell_type": "code",
   "execution_count": 5,
   "id": "668b57e6",
   "metadata": {},
   "outputs": [],
   "source": [
    "cursor = connection.cursor()"
   ]
  },
  {
   "cell_type": "code",
   "execution_count": 8,
   "id": "0f916377",
   "metadata": {},
   "outputs": [],
   "source": [
    "cursor.execute(\"USE little_lemon_db\")\n"
   ]
  },
  {
   "cell_type": "code",
   "execution_count": 9,
   "id": "50e453c8",
   "metadata": {},
   "outputs": [],
   "source": [
    "show_tables_query = \"SHOW tables\" \n",
    "cursor.execute(show_tables_query)"
   ]
  },
  {
   "cell_type": "code",
   "execution_count": 10,
   "id": "32ee9d8c",
   "metadata": {},
   "outputs": [],
   "source": [
    "results = cursor.fetchall()"
   ]
  },
  {
   "cell_type": "code",
   "execution_count": 11,
   "id": "808cd6be",
   "metadata": {},
   "outputs": [
    {
     "name": "stdout",
     "output_type": "stream",
     "text": [
      "[('Bookings',), ('Customers',), ('DeliveryStatus',), ('MenuItems',), ('Menus',), ('Orders',), ('ordersview',), ('Staff',)]\n"
     ]
    }
   ],
   "source": [
    "print(results)"
   ]
  },
  {
   "cell_type": "code",
   "execution_count": 13,
   "id": "5cee7a4c",
   "metadata": {},
   "outputs": [
    {
     "name": "stdout",
     "output_type": "stream",
     "text": [
      "('CustomerName', 'CustomerEmail', 'TotalCost')\n",
      "('John Doe', 'johndoe@email.com', Decimal('171.00'))\n",
      "('Jane Doe', 'janedoe@email.com', Decimal('174.00'))\n",
      "('Alice Baker', 'alicebaker@email.com', Decimal('358.00'))\n",
      "('Bob Marley', 'bobmarley@email.com', Decimal('265.00'))\n",
      "('David Bombal', 'davidbombal@email.com', Decimal('465.00'))\n",
      "('Emily Rose', 'emilyrose@email.com', Decimal('65.00'))\n",
      "('Frank Edwards', 'frankedwards@email.com', Decimal('437.00'))\n",
      "('Grace Harper', 'graceharper@email.com', Decimal('484.00'))\n",
      "('Hannah Suker', 'hannahsuker@email.com', Decimal('111.00'))\n"
     ]
    }
   ],
   "source": [
    "join_stmt = \"\"\"\n",
    "select Customers.CustomerName, Customers.CustomerEmail, Orders.Cost as TotalCost from Orders\n",
    "inner join Customers \n",
    "on Orders.OrderID = Customers.CustomerID \n",
    "where Orders.Cost > 60;\n",
    "\"\"\"\n",
    "\n",
    "cursor.execute(join_stmt)\n",
    "results = cursor.fetchall()\n",
    "print(cursor.column_names)\n",
    "for r in results:\n",
    "    print(r)"
   ]
  },
  {
   "cell_type": "code",
   "execution_count": null,
   "id": "84bb225c",
   "metadata": {},
   "outputs": [],
   "source": []
  }
 ],
 "metadata": {
  "kernelspec": {
   "display_name": "Python 3 (ipykernel)",
   "language": "python",
   "name": "python3"
  },
  "language_info": {
   "codemirror_mode": {
    "name": "ipython",
    "version": 3
   },
   "file_extension": ".py",
   "mimetype": "text/x-python",
   "name": "python",
   "nbconvert_exporter": "python",
   "pygments_lexer": "ipython3",
   "version": "3.11.4"
  }
 },
 "nbformat": 4,
 "nbformat_minor": 5
}
